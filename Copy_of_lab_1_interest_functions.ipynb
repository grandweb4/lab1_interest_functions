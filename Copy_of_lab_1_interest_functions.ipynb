{
  "cells": [
    {
      "cell_type": "markdown",
      "metadata": {
        "id": "view-in-github",
        "colab_type": "text"
      },
      "source": [
        "<a href=\"https://colab.research.google.com/github/grandweb4/lab1_interest_functions/blob/master/Copy_of_lab_1_interest_functions.ipynb\" target=\"_parent\"><img src=\"https://colab.research.google.com/assets/colab-badge.svg\" alt=\"Open In Colab\"/></a>"
      ]
    },
    {
      "cell_type": "markdown",
      "metadata": {
        "id": "uDAGA2eH8Woe"
      },
      "source": [
        "## Lab 1 - Compound Interest Functions\n",
        "\n",
        "Below you will find a table of important formulae related to compound interest.  \n",
        "\n",
        "<img src=\"https://www.dummies.com/wp-content/uploads/251689.image0.jpg\" alt=\"image0.jpg\" width=\"400\" height=\"319\">\n",
        "\n",
        "In this lab, you will create functions for each of these using (and documenting) the following workflow.\n",
        "\n",
        "1. Work out the correct answer for a few examples. *Hint* Search for e.g. \"worked out compound interest examples\" on the web.\n",
        "2. Write a `lambda` function and test this function on your test cases.\n",
        "3. Convert the `lambda` function to a `def` statement with an informative doc string that follows the [Google formating rules](https://google.github.io/styleguide/pyguide.html#383-functions-and-methods).\n",
        "4. Write an automated test function (using your previous examples) that will test your `def` statement function each time the code is executed."
      ]
    },
    {
      "cell_type": "markdown",
      "metadata": {
        "id": "sLMg6xt18Woe"
      },
      "source": [
        "#### Problem 1 -- Apply the process to create a simple interest functions."
      ]
    },
    {
      "cell_type": "code",
      "source": [
        "#1 Manually computing\n",
        "P = 7500\n",
        "r = 0.025\n",
        "t = 7\n",
        "I = P * r * t\n",
        "\n",
        "print(I)\n",
        "\n",
        "P = 12345\n",
        "r = 0.04\n",
        "t = 5\n",
        "I = P * r * t\n",
        "\n",
        "print(I)\n",
        "\n",
        "#Manually\n",
        "#I = P * r * t\n",
        "#I = 7500 * 0.025 * 7\n",
        "#I = 7500 * 0.175\n",
        "#I = 1312.5\n",
        "\n",
        "#Manually\n",
        "#I = P * r * t\n",
        "#I = 12345 * 0.04 * 5\n",
        "#I = 12345 * 0.2\n",
        "#I = 2469.0"
      ],
      "metadata": {
        "colab": {
          "base_uri": "https://localhost:8080/"
        },
        "id": "YBpY6fGa3QsF",
        "outputId": "7ab7b2af-0b07-4812-e701-72a9fe5cd557"
      },
      "execution_count": 43,
      "outputs": [
        {
          "output_type": "stream",
          "name": "stdout",
          "text": [
            "1312.5\n",
            "2469.0\n"
          ]
        }
      ]
    },
    {
      "cell_type": "code",
      "source": [
        "#2 Lambda Function\n",
        "I = lambda P, r, t:  P * r * t\n",
        "print(I(7500, 0.025, 7))\n",
        "print(I(12345, 0.04, 5))"
      ],
      "metadata": {
        "colab": {
          "base_uri": "https://localhost:8080/"
        },
        "id": "tsA_37aX3SAd",
        "outputId": "0acc8c22-c736-4060-8ae4-fdf4c027d6bc"
      },
      "execution_count": 45,
      "outputs": [
        {
          "output_type": "stream",
          "name": "stdout",
          "text": [
            "1312.5\n",
            "2469.0\n"
          ]
        }
      ]
    },
    {
      "cell_type": "code",
      "source": [
        "#3\n",
        "def SimpleInterest(P, r, t):\n",
        "    \"\"\"Compute the simple interest using Principle,\n",
        "        Rate and Time in years\n",
        "       \n",
        "        Args:\n",
        "           P: a number that is the principle\n",
        "           R: a number that is the rate \n",
        "           T: a number that is the number of compoundings in years\n",
        "           \n",
        "        Returns:\n",
        "           A number representing the simple interest\n",
        "    \"\"\"\n",
        "    output = P * r * t\n",
        "    return output\n",
        "\n",
        "print(SimpleInterest(7500, 0.025, 7))\n",
        "print(SimpleInterest(12345, 0.04, 5))\n",
        "\n",
        "#4\n",
        "\n",
        "def testSimpleInterest():\n",
        "    assert SimpleInterest(7500, 0.025, 7) == 1312.5\n",
        "    assert SimpleInterest(12345, 0.04, 5) == 2469.0\n",
        "\n",
        "testSimpleInterest()"
      ],
      "metadata": {
        "colab": {
          "base_uri": "https://localhost:8080/"
        },
        "id": "feLjprz_3S9q",
        "outputId": "83ad3bcf-8761-4215-c1ea-38961fcafa72"
      },
      "execution_count": 47,
      "outputs": [
        {
          "output_type": "stream",
          "name": "stdout",
          "text": [
            "1312.5\n",
            "2469.0\n"
          ]
        }
      ]
    },
    {
      "cell_type": "markdown",
      "metadata": {
        "id": "ySPpMEz58Woe"
      },
      "source": [
        "#### Problem 2 -- Apply the process to create a compound interest functions."
      ]
    },
    {
      "cell_type": "code",
      "source": [
        "#1 Manually computing\n",
        "P = 2500\n",
        "r = 0.3 #30% interest would be very nice! I am not a math major.\n",
        "n = 12\n",
        "t = 10\n",
        "A = P * (1 + (r/n))**(n*t)\n",
        "\n",
        "print(A)\n",
        "\n",
        "#Manually\n",
        "#P = 2500 * (1 + (0.3/12))^(12 * 10)\n",
        "#P = 2500 * (1 + 0.025)^(120)\n",
        "#P = 2500 * (1.025)^(120)\n",
        "#P = 2500 * (1.025)^(120)\n",
        "#P = 2500 * 19.358149\n",
        "#P = $48,395.37 "
      ],
      "metadata": {
        "colab": {
          "base_uri": "https://localhost:8080/"
        },
        "id": "M987oUvyAwEv",
        "outputId": "18d5a0b2-1613-4e18-c5ff-6db2921f6dec"
      },
      "execution_count": 30,
      "outputs": [
        {
          "output_type": "stream",
          "name": "stdout",
          "text": [
            "48395.37458444444\n"
          ]
        }
      ]
    },
    {
      "cell_type": "code",
      "source": [
        "#2 Lambda Function\n",
        "A = lambda P, r, n, t:  P * (1 + (r/n))**(n*t)\n",
        "A(2500, 0.3, 12, 10)\n",
        "#WOAH! Much simpler."
      ],
      "metadata": {
        "colab": {
          "base_uri": "https://localhost:8080/"
        },
        "id": "5dr3BIcMAzec",
        "outputId": "839082d6-3808-4bd2-fa41-4910854a4cb5"
      },
      "execution_count": 31,
      "outputs": [
        {
          "output_type": "execute_result",
          "data": {
            "text/plain": [
              "48395.37458444444"
            ]
          },
          "metadata": {},
          "execution_count": 31
        }
      ]
    },
    {
      "cell_type": "code",
      "execution_count": 32,
      "metadata": {
        "id": "PZN6ubIz8Woe",
        "colab": {
          "base_uri": "https://localhost:8080/"
        },
        "outputId": "e7568c66-7796-4ab1-be2a-18a0d7c032b6"
      },
      "outputs": [
        {
          "output_type": "stream",
          "name": "stdout",
          "text": [
            "48395.37458444444\n",
            "12166.529024000001\n"
          ]
        }
      ],
      "source": [
        "#3\n",
        "def CompoundInterest(P, r, n, t):\n",
        "    \"\"\"Compute the compound interest using Principle,\n",
        "        Rate, Compoundings, and Time in years\n",
        "       \n",
        "        Args:\n",
        "           P: a number that is the principle\n",
        "           R: a number that is the rate \n",
        "           N: a number that is the amount of compoundings\n",
        "           T: a number that is the number of compoundings in years (time)\n",
        "           \n",
        "        Returns:\n",
        "           A number representing the compound interest\n",
        "    \"\"\"\n",
        "    output = P * (1 + (r/n))**(n*t)\n",
        "    return output\n",
        "\n",
        "print(CompoundInterest(2500, 0.3, 12, 10))\n",
        "print(CompoundInterest(10000, 0.04, 1, 5))\n",
        "\n",
        "#4\n",
        "\n",
        "def testCompoundInterest():\n",
        "    assert CompoundInterest(2500, 0.3, 12, 10) == 48395.37458444444\n",
        "    assert CompoundInterest(10000, 0.04, 1, 5) == 12166.529024000001\n",
        "\n",
        "testCompoundInterest()"
      ]
    },
    {
      "cell_type": "markdown",
      "metadata": {
        "id": "TqAxz56R8Wov"
      },
      "source": [
        "#### Problem 3 -- Apply the process to create a amortized loan payment function."
      ]
    },
    {
      "cell_type": "code",
      "execution_count": 52,
      "metadata": {
        "id": "66Zc30tp8Wov",
        "colab": {
          "base_uri": "https://localhost:8080/"
        },
        "outputId": "39f41524-778f-4caf-84b7-c2f7db745a58"
      },
      "outputs": [
        {
          "output_type": "stream",
          "name": "stdout",
          "text": [
            "1026.4538709071003\n"
          ]
        }
      ],
      "source": [
        "#1 Manually computing\n",
        "P = 2500\n",
        "i = 0.3 \n",
        "n = 5\n",
        "\n",
        "R = (P*i)/(1 - (1 + i)**(-n))\n",
        "\n",
        "print(R)\n",
        "\n",
        "#Manually\n",
        "#R = (P*i)/(1 - (1 + i)^(-n))\n",
        "#R = (2500*0.3)/(1 - (1 + 0.3)^(-5))\n",
        "#R = (750)/(1 - (1.3)^(-5))\n",
        "#R = (750)/(1 - (0.26932907))\n",
        "#R = (750)/(0.73067)\n",
        "#R = 1026.45\n"
      ]
    },
    {
      "cell_type": "code",
      "source": [
        "#2 Lambda Function\n",
        "R = lambda P, i, n: (P*i)/(1 - (1 + i)**(-n))\n",
        "R(2500, 0.3, 5)"
      ],
      "metadata": {
        "colab": {
          "base_uri": "https://localhost:8080/"
        },
        "id": "geX_xTNRDD8d",
        "outputId": "9c5eb574-5c5f-4bd8-dc6d-1140ed5e1828"
      },
      "execution_count": 53,
      "outputs": [
        {
          "output_type": "execute_result",
          "data": {
            "text/plain": [
              "1026.4538709071003"
            ]
          },
          "metadata": {},
          "execution_count": 53
        }
      ]
    },
    {
      "cell_type": "code",
      "source": [
        "#3\n",
        "def AmortizedLoanPayment(P, i, n):\n",
        "    \"\"\"Compute the Amortized Loan Payment amount using Principle amount borrowed,\n",
        "        Interest rate per period, and Number of payments\n",
        "       \n",
        "        Args:\n",
        "           P: a number that is the principle amount borrowed\n",
        "           I: a number that is the interest rate per period \n",
        "           N: a number that is the number of payments\n",
        "           \n",
        "        Returns:\n",
        "           A number representing the Amortized Loan Payment\n",
        "    \"\"\"\n",
        "    output = (P*i)/(1 - (1 + i)**(-n))\n",
        "    return output\n",
        "\n",
        "print(AmortizedLoanPayment(2500, 0.3, 5))\n",
        "\n",
        "#4\n",
        "\n",
        "def testAmortizedLoanPayment():\n",
        "    assert AmortizedLoanPayment(2500, 0.3, 5) == 1026.4538709071003\n",
        "\n",
        "testAmortizedLoanPayment()"
      ],
      "metadata": {
        "colab": {
          "base_uri": "https://localhost:8080/"
        },
        "id": "oZYxOMAFDGlv",
        "outputId": "9c323a04-fb2e-4d89-d5f3-5dc1d78d2684"
      },
      "execution_count": 56,
      "outputs": [
        {
          "output_type": "stream",
          "name": "stdout",
          "text": [
            "1026.4538709071003\n"
          ]
        }
      ]
    },
    {
      "cell_type": "markdown",
      "metadata": {
        "id": "nr6p8j3i8Wov"
      },
      "source": [
        "#### Problem 4 -- Apply the process to create a remaining balance function"
      ]
    },
    {
      "cell_type": "code",
      "execution_count": 57,
      "metadata": {
        "id": "ND_Uq0zZ8Wov",
        "colab": {
          "base_uri": "https://localhost:8080/"
        },
        "outputId": "fa84fc9c-5966-44de-c50b-997f47ca62cf"
      },
      "outputs": [
        {
          "output_type": "stream",
          "name": "stdout",
          "text": [
            "8100.436722650995\n"
          ]
        }
      ],
      "source": [
        "#1 Manually computing\n",
        "R = 650 #regular payment\n",
        "i = 0.05 #interest rate per period\n",
        "n = 25 #num payments\n",
        "x = 5 #num payments already made\n",
        "\n",
        "B = R * ( (1 - (1 + i) ** (-(n - x))) / i )\n",
        "\n",
        "print(B)\n",
        "\n",
        "#Manually\n",
        "#B = R * ( (1 - (1 + i)^(-n - x)) / i )\n",
        "#B = 650 * ( (1 - (1 + 0.05)^(-(25 - 5))) / 0.05 )\n",
        "#B = 650 * ( (1 - (1.05)^(-20)) / 0.05 )\n",
        "#B = 650 * ( (1 - 0.376889) / 0.05 )\n",
        "#B = 650 * ( 0.62311 / 0.05 )\n",
        "#B = 650 * 12.4622\n",
        "#B = 8100.43\n"
      ]
    },
    {
      "cell_type": "code",
      "source": [
        "#2 Lambda Function\n",
        "B = lambda P, i, n, x: R * ( (1 - (1 + i) ** (-(n - x))) / i )\n",
        "B(650, 0.05, 25, 5)"
      ],
      "metadata": {
        "colab": {
          "base_uri": "https://localhost:8080/"
        },
        "id": "wPSlnunHHrZs",
        "outputId": "69d98130-a114-4b52-c862-b43e77e514c2"
      },
      "execution_count": 58,
      "outputs": [
        {
          "output_type": "execute_result",
          "data": {
            "text/plain": [
              "8100.436722650995"
            ]
          },
          "metadata": {},
          "execution_count": 58
        }
      ]
    },
    {
      "cell_type": "code",
      "source": [
        "#3\n",
        "def RemainingBalance(R, i, n, x):\n",
        "    \"\"\"Compute the remaining balance using the regular payment amount, \n",
        "        the interest rate per period, the number of payments, \n",
        "        and the number of payments already made. \n",
        "       \n",
        "        Args:\n",
        "           R: a number that is the Regular Payment\n",
        "           I: a number that is the interest rate per period \n",
        "           N: a number that is the number of payments\n",
        "           X: a number that is the number of payments already made\n",
        "           \n",
        "        Returns:\n",
        "           A number representing the Remaining Balance\n",
        "    \"\"\"\n",
        "    output = R * ( (1 - (1 + i) ** (-(n - x))) / i )\n",
        "    return output\n",
        "\n",
        "print(RemainingBalance(650, 0.05, 25, 5))\n",
        "\n",
        "#4\n",
        "\n",
        "def testRemainingBalance():\n",
        "    assert RemainingBalance(650, 0.05, 25, 5) == 8100.436722650995\n",
        "\n",
        "testRemainingBalance()"
      ],
      "metadata": {
        "colab": {
          "base_uri": "https://localhost:8080/"
        },
        "id": "Dr4EqV3QHtLP",
        "outputId": "a4e29e66-2697-48eb-e37f-a5c6a7ee7d4a"
      },
      "execution_count": 61,
      "outputs": [
        {
          "output_type": "stream",
          "name": "stdout",
          "text": [
            "8100.436722650995\n"
          ]
        }
      ]
    }
  ],
  "metadata": {
    "kernelspec": {
      "display_name": "Python 3",
      "language": "python",
      "name": "python3"
    },
    "language_info": {
      "codemirror_mode": {
        "name": "ipython",
        "version": 3
      },
      "file_extension": ".py",
      "mimetype": "text/x-python",
      "name": "python",
      "nbconvert_exporter": "python",
      "pygments_lexer": "ipython3",
      "version": "3.7.2"
    },
    "colab": {
      "provenance": [],
      "name": "Copy of lab_1_interest_functions.ipynb",
      "collapsed_sections": [],
      "include_colab_link": true
    }
  },
  "nbformat": 4,
  "nbformat_minor": 0
}